{
 "cells": [
  {
   "cell_type": "code",
   "execution_count": 4,
   "metadata": {},
   "outputs": [],
   "source": [
    "import sys\n",
    "sys.path.append('..')\n",
    "import numpy as np\n",
    "import pandas as pd\n",
    "import matplotlib.pyplot as plt\n",
    "from models.ddpg import DDPG\n",
    "from models.model import OUNoise\n",
    "from env.TradeEnv import TradeEnv"
   ]
  },
  {
   "cell_type": "code",
   "execution_count": 5,
   "metadata": {},
   "outputs": [
    {
     "name": "stdout",
     "output_type": "stream",
     "text": [
      "Initialize trade environment...\n",
      "Aligning df_macro, df_stock and df_factor...\n",
      "df_macro shape:  (2674, 54)\n",
      "df_stock shape:  (2674, 470)\n",
      "df_factor shape:  (2674, 470)\n"
     ]
    }
   ],
   "source": [
    "file_path = '../data/processed/'\n",
    "df_macro = pd.read_csv(file_path + 'macro_data.csv')\n",
    "df_stock = pd.read_csv(file_path + 'stock_data.csv')\n",
    "df_factor = pd.read_csv(file_path + 'factor_data.csv')\n",
    "\n",
    "env = TradeEnv(df_macro=df_macro, df_factor=df_factor, df_stock=df_stock)\n",
    "env.reset()\n",
    "action = [1, 2]\n",
    "obs, reward, term = env.step(action)"
   ]
  },
  {
   "cell_type": "code",
   "execution_count": null,
   "metadata": {},
   "outputs": [],
   "source": []
  }
 ],
 "metadata": {
  "kernelspec": {
   "display_name": "pytorch",
   "language": "python",
   "name": "python3"
  },
  "language_info": {
   "codemirror_mode": {
    "name": "ipython",
    "version": 3
   },
   "file_extension": ".py",
   "mimetype": "text/x-python",
   "name": "python",
   "nbconvert_exporter": "python",
   "pygments_lexer": "ipython3",
   "version": "3.10.8"
  },
  "orig_nbformat": 4
 },
 "nbformat": 4,
 "nbformat_minor": 2
}
